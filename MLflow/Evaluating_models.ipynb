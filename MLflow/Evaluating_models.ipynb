{
 "cells": [
  {
   "cell_type": "markdown",
   "metadata": {},
   "source": [
    "#### Installing MLflow"
   ]
  },
  {
   "cell_type": "code",
   "execution_count": 8,
   "metadata": {},
   "outputs": [],
   "source": [
    "#%pip install mlflow"
   ]
  },
  {
   "cell_type": "markdown",
   "metadata": {},
   "source": [
    "#### Importing Libraries"
   ]
  },
  {
   "cell_type": "code",
   "execution_count": 1,
   "metadata": {},
   "outputs": [],
   "source": [
    "from sklearn.datasets import make_classification\n",
    "from sklearn.model_selection import train_test_split\n",
    "from sklearn.ensemble import RandomForestClassifier\n",
    "import pandas as pd\n",
    "import mlflow"
   ]
  },
  {
   "cell_type": "markdown",
   "metadata": {},
   "source": [
    "#### Creating MLFlow Experiment"
   ]
  },
  {
   "cell_type": "markdown",
   "metadata": {},
   "source": [
    "Make sure \"\"\"mlflow ui\"\"\" command is running in background (terminal)"
   ]
  },
  {
   "cell_type": "code",
   "execution_count": 3,
   "metadata": {},
   "outputs": [
    {
     "name": "stderr",
     "output_type": "stream",
     "text": [
      "2024/12/13 12:17:28 INFO mlflow.tracking.fluent: Experiment with name 'classic_evaluation' does not exist. Creating a new experiment.\n"
     ]
    },
    {
     "data": {
      "text/plain": [
       "<Experiment: artifact_location='mlflow-artifacts:/211927343751898727', creation_time=1734072448898, experiment_id='211927343751898727', last_update_time=1734072448898, lifecycle_stage='active', name='classic_evaluation', tags={}>"
      ]
     },
     "execution_count": 3,
     "metadata": {},
     "output_type": "execute_result"
    }
   ],
   "source": [
    "mlflow.set_tracking_uri(uri = \"http://127.0.0.1:5000\")\n",
    "experiment_name = \"classic_evaluation\"\n",
    "mlflow.set_experiment(experiment_name)"
   ]
  },
  {
   "cell_type": "markdown",
   "metadata": {},
   "source": [
    "#### Creating a sample dataset"
   ]
  },
  {
   "cell_type": "code",
   "execution_count": 5,
   "metadata": {},
   "outputs": [],
   "source": [
    "x, y = make_classification(n_samples = 1000, n_features = 5, n_classes = 2, random_state = 42)\n",
    "\n",
    "x_df = pd.DataFrame(x, columns = [f\"feature_{i+1}\" for i in range(x.shape[1])])\n",
    "y_df = pd.DataFrame(y, columns = ['target'])\n",
    "x_train, x_test, y_train, y_test = train_test_split(x_df, y_df, test_size = 0.2, random_state = 42)"
   ]
  },
  {
   "cell_type": "markdown",
   "metadata": {},
   "source": [
    "#### Random Forest Classifier"
   ]
  },
  {
   "cell_type": "code",
   "execution_count": 6,
   "metadata": {},
   "outputs": [
    {
     "name": "stderr",
     "output_type": "stream",
     "text": [
      "/Users/sachintripathi/Documents/Py_files/dev/lib/python3.12/site-packages/sklearn/base.py:1473: DataConversionWarning: A column-vector y was passed when a 1d array was expected. Please change the shape of y to (n_samples,), for example using ravel().\n",
      "  return fit_method(estimator, *args, **kwargs)\n"
     ]
    }
   ],
   "source": [
    "rfc = RandomForestClassifier(n_estimators = 1)\n",
    "rfc.fit(x_train, y_train)\n",
    "predictions = rfc.predict(x_test)"
   ]
  },
  {
   "cell_type": "code",
   "execution_count": 7,
   "metadata": {},
   "outputs": [
    {
     "name": "stdout",
     "output_type": "stream",
     "text": [
      "   target  predictions\n",
      "0       1            1\n",
      "1       1            1\n",
      "2       1            1\n",
      "3       1            1\n",
      "4       0            1\n"
     ]
    }
   ],
   "source": [
    "eval_df = pd.DataFrame({\n",
    "    \"target\": y_test.to_numpy().flatten(), \n",
    "    \"predictions\": predictions\n",
    "})\n",
    "print(eval_df.head())"
   ]
  },
  {
   "cell_type": "code",
   "execution_count": 10,
   "metadata": {},
   "outputs": [
    {
     "name": "stderr",
     "output_type": "stream",
     "text": [
      "/Users/sachintripathi/Documents/Py_files/dev/lib/python3.12/site-packages/mlflow/types/utils.py:435: UserWarning: Hint: Inferred schema contains integer column(s). Integer columns in Python cannot represent missing values. If your input data contains missing values at inference time, it will be encoded as floats and will cause a schema enforcement error. The best way to avoid this problem is to infer the model schema based on a realistic data sample (training dataset) that includes missing values. Alternatively, you can declare integer columns as doubles (float64) whenever these columns may have missing values. See `Handling Integers With Missing Values <https://www.mlflow.org/docs/latest/models.html#handling-integers-with-missing-values>`_ for more details.\n",
      "  warnings.warn(\n",
      "2024/12/13 12:52:31 WARNING mlflow.models.evaluation.evaluators.classifier: According to the evaluation dataset label values, the model type looks like None, but you specified model type 'classifier'. Please verify that you set the `model_type` and `dataset` arguments correctly.\n",
      "2024/12/13 12:52:31 INFO mlflow.models.evaluation.evaluators.classifier: The evaluation dataset is inferred as binary dataset, positive label is 1, negative label is 0.\n",
      "2024/12/13 12:52:31 INFO mlflow.models.evaluation.default_evaluator: Testing metrics on first row...\n",
      "2024/12/13 12:52:31 WARNING mlflow.models.evaluation.evaluators.shap: SHAP or matplotlib package is not installed, so model explainability insights will not be logged.\n"
     ]
    },
    {
     "name": "stdout",
     "output_type": "stream",
     "text": [
      "🏃 View run rebellious-zebra-223 at: http://127.0.0.1:5000/#/experiments/211927343751898727/runs/b5cf9c3645c040c38fb39ad4b1b01928\n",
      "🧪 View experiment at: http://127.0.0.1:5000/#/experiments/211927343751898727\n"
     ]
    },
    {
     "data": {
      "text/plain": [
       "<Figure size 1050x700 with 0 Axes>"
      ]
     },
     "metadata": {},
     "output_type": "display_data"
    }
   ],
   "source": [
    "# using the eval_df for evaluating our model\n",
    "result = mlflow.evaluate(\n",
    "    data = eval_df, \n",
    "    model_type = \"classifier\", \n",
    "    targets = \"target\", \n",
    "    predictions = \"predictions\" \n",
    ")"
   ]
  },
  {
   "cell_type": "markdown",
   "metadata": {},
   "source": [
    "#### Evaluating the model using estimator"
   ]
  },
  {
   "cell_type": "markdown",
   "metadata": {},
   "source": [
    "Using model as a function"
   ]
  },
  {
   "cell_type": "code",
   "execution_count": 11,
   "metadata": {},
   "outputs": [],
   "source": [
    "def random_forest_clf(model_input):\n",
    "    return rfc.predict(model_input)"
   ]
  },
  {
   "cell_type": "code",
   "execution_count": 12,
   "metadata": {},
   "outputs": [],
   "source": [
    "eval_df_for_model = x_test.copy()\n",
    "eval_df_for_model[\"target\"] = y_test"
   ]
  },
  {
   "cell_type": "code",
   "execution_count": 13,
   "metadata": {},
   "outputs": [
    {
     "data": {
      "text/html": [
       "<div>\n",
       "<style scoped>\n",
       "    .dataframe tbody tr th:only-of-type {\n",
       "        vertical-align: middle;\n",
       "    }\n",
       "\n",
       "    .dataframe tbody tr th {\n",
       "        vertical-align: top;\n",
       "    }\n",
       "\n",
       "    .dataframe thead th {\n",
       "        text-align: right;\n",
       "    }\n",
       "</style>\n",
       "<table border=\"1\" class=\"dataframe\">\n",
       "  <thead>\n",
       "    <tr style=\"text-align: right;\">\n",
       "      <th></th>\n",
       "      <th>feature_1</th>\n",
       "      <th>feature_2</th>\n",
       "      <th>feature_3</th>\n",
       "      <th>feature_4</th>\n",
       "      <th>feature_5</th>\n",
       "      <th>target</th>\n",
       "    </tr>\n",
       "  </thead>\n",
       "  <tbody>\n",
       "    <tr>\n",
       "      <th>521</th>\n",
       "      <td>1.250932</td>\n",
       "      <td>-1.064291</td>\n",
       "      <td>-2.238231</td>\n",
       "      <td>-0.914547</td>\n",
       "      <td>1.261286</td>\n",
       "      <td>1</td>\n",
       "    </tr>\n",
       "    <tr>\n",
       "      <th>737</th>\n",
       "      <td>-0.196283</td>\n",
       "      <td>0.190820</td>\n",
       "      <td>-0.243384</td>\n",
       "      <td>0.154804</td>\n",
       "      <td>-0.256094</td>\n",
       "      <td>1</td>\n",
       "    </tr>\n",
       "    <tr>\n",
       "      <th>740</th>\n",
       "      <td>2.659138</td>\n",
       "      <td>-0.265773</td>\n",
       "      <td>1.072978</td>\n",
       "      <td>-0.996758</td>\n",
       "      <td>-2.195564</td>\n",
       "      <td>1</td>\n",
       "    </tr>\n",
       "    <tr>\n",
       "      <th>660</th>\n",
       "      <td>0.087778</td>\n",
       "      <td>-0.021011</td>\n",
       "      <td>-0.667780</td>\n",
       "      <td>-0.038709</td>\n",
       "      <td>-0.042586</td>\n",
       "      <td>1</td>\n",
       "    </tr>\n",
       "    <tr>\n",
       "      <th>411</th>\n",
       "      <td>-0.662457</td>\n",
       "      <td>0.741043</td>\n",
       "      <td>-0.358340</td>\n",
       "      <td>0.568499</td>\n",
       "      <td>-1.101298</td>\n",
       "      <td>0</td>\n",
       "    </tr>\n",
       "  </tbody>\n",
       "</table>\n",
       "</div>"
      ],
      "text/plain": [
       "     feature_1  feature_2  feature_3  feature_4  feature_5  target\n",
       "521   1.250932  -1.064291  -2.238231  -0.914547   1.261286       1\n",
       "737  -0.196283   0.190820  -0.243384   0.154804  -0.256094       1\n",
       "740   2.659138  -0.265773   1.072978  -0.996758  -2.195564       1\n",
       "660   0.087778  -0.021011  -0.667780  -0.038709  -0.042586       1\n",
       "411  -0.662457   0.741043  -0.358340   0.568499  -1.101298       0"
      ]
     },
     "execution_count": 13,
     "metadata": {},
     "output_type": "execute_result"
    }
   ],
   "source": [
    "eval_df_for_model.head()"
   ]
  },
  {
   "cell_type": "code",
   "execution_count": null,
   "metadata": {},
   "outputs": [
    {
     "name": "stderr",
     "output_type": "stream",
     "text": [
      "/Users/sachintripathi/Documents/Py_files/dev/lib/python3.12/site-packages/mlflow/types/utils.py:435: UserWarning: Hint: Inferred schema contains integer column(s). Integer columns in Python cannot represent missing values. If your input data contains missing values at inference time, it will be encoded as floats and will cause a schema enforcement error. The best way to avoid this problem is to infer the model schema based on a realistic data sample (training dataset) that includes missing values. Alternatively, you can declare integer columns as doubles (float64) whenever these columns may have missing values. See `Handling Integers With Missing Values <https://www.mlflow.org/docs/latest/models.html#handling-integers-with-missing-values>`_ for more details.\n",
      "  warnings.warn(\n",
      "2024/12/13 13:00:11 WARNING mlflow.models.evaluation.evaluators.classifier: According to the evaluation dataset label values, the model type looks like None, but you specified model type 'classifier'. Please verify that you set the `model_type` and `dataset` arguments correctly.\n",
      "2024/12/13 13:00:11 INFO mlflow.models.evaluation.evaluators.classifier: The evaluation dataset is inferred as binary dataset, positive label is 1, negative label is 0.\n",
      "2024/12/13 13:00:11 INFO mlflow.models.evaluation.default_evaluator: Testing metrics on first row...\n",
      "2024/12/13 13:00:12 WARNING mlflow.models.evaluation.evaluators.shap: SHAP or matplotlib package is not installed, so model explainability insights will not be logged.\n"
     ]
    },
    {
     "name": "stdout",
     "output_type": "stream",
     "text": [
      "🏃 View run skillful-lark-935 at: http://127.0.0.1:5000/#/experiments/211927343751898727/runs/bf539fcc28324423a0dbb9e3e4632641\n",
      "🧪 View experiment at: http://127.0.0.1:5000/#/experiments/211927343751898727\n"
     ]
    }
   ],
   "source": [
    "result = mlflow.evaluate(\n",
    "    model = random_forest_clf, \n",
    "    data = eval_df_for_model, \n",
    "    model_type = \"classifier\", \n",
    "    targets = \"target\", \n",
    "    predictions = \"predictions\" \n",
    ")"
   ]
  },
  {
   "cell_type": "code",
   "execution_count": 19,
   "metadata": {},
   "outputs": [
    {
     "data": {
      "text/plain": [
       "{'true_negatives': 72,\n",
       " 'false_positives': 25,\n",
       " 'false_negatives': 13,\n",
       " 'true_positives': 90,\n",
       " 'example_count': 200,\n",
       " 'accuracy_score': 0.81,\n",
       " 'recall_score': 0.8737864077669902,\n",
       " 'precision_score': 0.782608695652174,\n",
       " 'f1_score': 0.8256880733944955}"
      ]
     },
     "execution_count": 19,
     "metadata": {},
     "output_type": "execute_result"
    }
   ],
   "source": [
    "result.metrics"
   ]
  },
  {
   "cell_type": "markdown",
   "metadata": {},
   "source": [
    "#### Addition of Extra Metrics"
   ]
  },
  {
   "cell_type": "code",
   "execution_count": 20,
   "metadata": {},
   "outputs": [],
   "source": [
    "from mlflow.metrics import make_metric\n",
    "from sklearn.metrics import f1_score"
   ]
  },
  {
   "cell_type": "code",
   "execution_count": 24,
   "metadata": {},
   "outputs": [],
   "source": [
    "def custom_accuracy(df, __builtin_metrics): \n",
    "    targets = df[\"target\"]\n",
    "    predictions = df[\"prediction\"]\n",
    "    return sum(targets == predictions)/len(targets)\n",
    "\n",
    "def custom_f1_score(df, __builtin_metrics):\n",
    "    targets = df[\"target\"]\n",
    "    predictions = df[\"prediction\"]\n",
    "    return f1_score(targets, predictions, average = \"weighted\")"
   ]
  },
  {
   "cell_type": "code",
   "execution_count": 25,
   "metadata": {},
   "outputs": [],
   "source": [
    "custom_metric_accuracy = make_metric(\n",
    "    eval_fn = custom_accuracy, \n",
    "    name = \"custom_accuracy\", \n",
    "    greater_is_better = True\n",
    ")\n",
    "\n",
    "custom_metric_f1_score = make_metric(\n",
    "    eval_fn = custom_f1_score, \n",
    "    name = \"custom_f1_score\", \n",
    "    greater_is_better = True\n",
    ")"
   ]
  },
  {
   "cell_type": "code",
   "execution_count": 26,
   "metadata": {},
   "outputs": [
    {
     "name": "stderr",
     "output_type": "stream",
     "text": [
      "/Users/sachintripathi/Documents/Py_files/dev/lib/python3.12/site-packages/mlflow/types/utils.py:435: UserWarning: Hint: Inferred schema contains integer column(s). Integer columns in Python cannot represent missing values. If your input data contains missing values at inference time, it will be encoded as floats and will cause a schema enforcement error. The best way to avoid this problem is to infer the model schema based on a realistic data sample (training dataset) that includes missing values. Alternatively, you can declare integer columns as doubles (float64) whenever these columns may have missing values. See `Handling Integers With Missing Values <https://www.mlflow.org/docs/latest/models.html#handling-integers-with-missing-values>`_ for more details.\n",
      "  warnings.warn(\n",
      "2024/12/13 13:12:25 WARNING mlflow.models.evaluation.evaluators.classifier: According to the evaluation dataset label values, the model type looks like None, but you specified model type 'classifier'. Please verify that you set the `model_type` and `dataset` arguments correctly.\n",
      "2024/12/13 13:12:25 INFO mlflow.models.evaluation.evaluators.classifier: The evaluation dataset is inferred as binary dataset, positive label is 1, negative label is 0.\n",
      "2024/12/13 13:12:25 INFO mlflow.models.evaluation.default_evaluator: Testing metrics on first row...\n",
      "2024/12/13 13:12:26 WARNING mlflow.models.evaluation.evaluators.shap: SHAP or matplotlib package is not installed, so model explainability insights will not be logged.\n"
     ]
    },
    {
     "name": "stdout",
     "output_type": "stream",
     "text": [
      "🏃 View run monumental-toad-833 at: http://127.0.0.1:5000/#/experiments/211927343751898727/runs/1ecd63c2bb3e4c1fa221350840ab434a\n",
      "🧪 View experiment at: http://127.0.0.1:5000/#/experiments/211927343751898727\n"
     ]
    }
   ],
   "source": [
    "result = mlflow.evaluate(\n",
    "    model = random_forest_clf, \n",
    "    data = eval_df_for_model, \n",
    "    model_type = \"classifier\", \n",
    "    targets = \"target\", \n",
    "    predictions = \"predictions\", \n",
    "    extra_metrics = [custom_metric_accuracy, custom_metric_f1_score]\n",
    ")"
   ]
  },
  {
   "cell_type": "code",
   "execution_count": 27,
   "metadata": {},
   "outputs": [
    {
     "data": {
      "text/plain": [
       "{'confusion_matrix': ImageEvaluationArtifact(uri='mlflow-artifacts:/211927343751898727/1ecd63c2bb3e4c1fa221350840ab434a/artifacts/confusion_matrix.png')}"
      ]
     },
     "execution_count": 27,
     "metadata": {},
     "output_type": "execute_result"
    }
   ],
   "source": [
    "result.artifacts"
   ]
  },
  {
   "cell_type": "markdown",
   "metadata": {},
   "source": [
    "#### Adding custom artifacts"
   ]
  },
  {
   "cell_type": "code",
   "execution_count": 28,
   "metadata": {},
   "outputs": [],
   "source": [
    "from sklearn.metrics import PrecisionRecallDisplay\n",
    "import matplotlib.pyplot as plt\n",
    "\n",
    "def custom_precision_recall_curve(df, _builtin_metrics, _artifacts_dir): \n",
    "    targets = df[\"target\"]\n",
    "    predictions = df[\"prediction\"]\n",
    "    pr_display = PrecisionRecallDisplay.from_predictions(targets, predictions)\n",
    "    return {\"precision_recall_curve\": pr_display.figure_}"
   ]
  },
  {
   "cell_type": "code",
   "execution_count": 31,
   "metadata": {},
   "outputs": [
    {
     "name": "stderr",
     "output_type": "stream",
     "text": [
      "/Users/sachintripathi/Documents/Py_files/dev/lib/python3.12/site-packages/mlflow/types/utils.py:435: UserWarning: Hint: Inferred schema contains integer column(s). Integer columns in Python cannot represent missing values. If your input data contains missing values at inference time, it will be encoded as floats and will cause a schema enforcement error. The best way to avoid this problem is to infer the model schema based on a realistic data sample (training dataset) that includes missing values. Alternatively, you can declare integer columns as doubles (float64) whenever these columns may have missing values. See `Handling Integers With Missing Values <https://www.mlflow.org/docs/latest/models.html#handling-integers-with-missing-values>`_ for more details.\n",
      "  warnings.warn(\n",
      "2024/12/13 13:44:18 WARNING mlflow.models.evaluation.evaluators.classifier: According to the evaluation dataset label values, the model type looks like None, but you specified model type 'classifier'. Please verify that you set the `model_type` and `dataset` arguments correctly.\n",
      "2024/12/13 13:44:18 INFO mlflow.models.evaluation.evaluators.classifier: The evaluation dataset is inferred as binary dataset, positive label is 1, negative label is 0.\n",
      "2024/12/13 13:44:18 INFO mlflow.models.evaluation.default_evaluator: Testing metrics on first row...\n",
      "2024/12/13 13:44:19 WARNING mlflow.models.evaluation.evaluators.shap: SHAP or matplotlib package is not installed, so model explainability insights will not be logged.\n"
     ]
    },
    {
     "name": "stdout",
     "output_type": "stream",
     "text": [
      "🏃 View run exultant-lark-561 at: http://127.0.0.1:5000/#/experiments/211927343751898727/runs/79e094067a9d44b5bf783d21f6098321\n",
      "🧪 View experiment at: http://127.0.0.1:5000/#/experiments/211927343751898727\n"
     ]
    }
   ],
   "source": [
    "result = mlflow.evaluate(\n",
    "    data = eval_df, \n",
    "    model_type = \"classifier\", \n",
    "    targets = \"target\", \n",
    "    predictions = \"predictions\", \n",
    "    extra_metrics = [custom_metric_accuracy, custom_metric_f1_score], \n",
    "    custom_artifacts = [custom_precision_recall_curve]\n",
    ")"
   ]
  },
  {
   "cell_type": "code",
   "execution_count": 32,
   "metadata": {},
   "outputs": [
    {
     "name": "stderr",
     "output_type": "stream",
     "text": [
      "/Users/sachintripathi/Documents/Py_files/dev/lib/python3.12/site-packages/mlflow/types/utils.py:435: UserWarning: Hint: Inferred schema contains integer column(s). Integer columns in Python cannot represent missing values. If your input data contains missing values at inference time, it will be encoded as floats and will cause a schema enforcement error. The best way to avoid this problem is to infer the model schema based on a realistic data sample (training dataset) that includes missing values. Alternatively, you can declare integer columns as doubles (float64) whenever these columns may have missing values. See `Handling Integers With Missing Values <https://www.mlflow.org/docs/latest/models.html#handling-integers-with-missing-values>`_ for more details.\n",
      "  warnings.warn(\n",
      "2024/12/13 13:46:37 WARNING mlflow.models.evaluation.evaluators.classifier: According to the evaluation dataset label values, the model type looks like None, but you specified model type 'classifier'. Please verify that you set the `model_type` and `dataset` arguments correctly.\n",
      "2024/12/13 13:46:37 INFO mlflow.models.evaluation.evaluators.classifier: The evaluation dataset is inferred as binary dataset, positive label is 1, negative label is 0.\n",
      "2024/12/13 13:46:37 INFO mlflow.models.evaluation.default_evaluator: Testing metrics on first row...\n",
      "2024/12/13 13:46:37 WARNING mlflow.models.evaluation.evaluators.shap: SHAP or matplotlib package is not installed, so model explainability insights will not be logged.\n"
     ]
    },
    {
     "name": "stdout",
     "output_type": "stream",
     "text": [
      "🏃 View run traveling-ox-408 at: http://127.0.0.1:5000/#/experiments/211927343751898727/runs/ed0e2fb558d0434abe6cb03efaf51e5e\n",
      "🧪 View experiment at: http://127.0.0.1:5000/#/experiments/211927343751898727\n"
     ]
    }
   ],
   "source": [
    "result = mlflow.evaluate(\n",
    "    model = random_forest_clf,\n",
    "    data = eval_df_for_model, \n",
    "    model_type = \"classifier\", \n",
    "    targets = \"target\", \n",
    "    predictions = \"predictions\", \n",
    "    extra_metrics = [custom_metric_accuracy, custom_metric_f1_score], \n",
    "    custom_artifacts = [custom_precision_recall_curve]\n",
    ")"
   ]
  },
  {
   "cell_type": "code",
   "execution_count": 34,
   "metadata": {},
   "outputs": [
    {
     "data": {
      "text/plain": [
       "{'precision_recall_curve': ImageEvaluationArtifact(uri='mlflow-artifacts:/211927343751898727/ed0e2fb558d0434abe6cb03efaf51e5e/artifacts/precision_recall_curve.png'),\n",
       " 'confusion_matrix': ImageEvaluationArtifact(uri='mlflow-artifacts:/211927343751898727/ed0e2fb558d0434abe6cb03efaf51e5e/artifacts/confusion_matrix.png')}"
      ]
     },
     "execution_count": 34,
     "metadata": {},
     "output_type": "execute_result"
    }
   ],
   "source": [
    "result.artifacts"
   ]
  },
  {
   "cell_type": "code",
   "execution_count": null,
   "metadata": {},
   "outputs": [],
   "source": []
  }
 ],
 "metadata": {
  "kernelspec": {
   "display_name": "dev",
   "language": "python",
   "name": "python3"
  },
  "language_info": {
   "codemirror_mode": {
    "name": "ipython",
    "version": 3
   },
   "file_extension": ".py",
   "mimetype": "text/x-python",
   "name": "python",
   "nbconvert_exporter": "python",
   "pygments_lexer": "ipython3",
   "version": "3.12.4"
  }
 },
 "nbformat": 4,
 "nbformat_minor": 2
}
