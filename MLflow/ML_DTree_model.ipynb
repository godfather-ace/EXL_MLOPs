{
 "cells": [
  {
   "cell_type": "code",
   "execution_count": 1,
   "metadata": {},
   "outputs": [],
   "source": [
    "from utils.utils import get_root_project\n",
    "from mlflow.models.signature import infer_signature\n",
    "from sklearn.datasets import make_classification\n",
    "from sklearn.model_selection import train_test_split\n",
    "from sklearn.tree import DecisionTreeClassifier\n",
    "import pandas as pd\n",
    "import mlflow\n",
    "import os"
   ]
  },
  {
   "cell_type": "code",
   "execution_count": 2,
   "metadata": {},
   "outputs": [],
   "source": [
    "tracking_server = get_root_project() / 'MLFlow' / 'mlruns'\n",
    "\n",
    "os.makedirs(tracking_server, exist_ok = True)\n",
    "mlflow.set_tracking_uri(tracking_server.as_uri())"
   ]
  },
  {
   "cell_type": "code",
   "execution_count": 3,
   "metadata": {},
   "outputs": [
    {
     "data": {
      "text/plain": [
       "<Experiment: artifact_location='file:///Users/sachintripathi/Documents/Py_files/EXL_MLOps/MLFlow/mlruns/869131075508411226', creation_time=1734081375763, experiment_id='869131075508411226', last_update_time=1734081375763, lifecycle_stage='active', name='dtree_model', tags={}>"
      ]
     },
     "execution_count": 3,
     "metadata": {},
     "output_type": "execute_result"
    }
   ],
   "source": [
    "experiment_name = \"dtree_model\"\n",
    "try: \n",
    "    mlflow.create_experiment(name = experiment_name)\n",
    "except Exception as e:\n",
    "    print(e)\n",
    "\n",
    "mlflow.set_experiment(experiment_name = experiment_name)"
   ]
  },
  {
   "cell_type": "code",
   "execution_count": 4,
   "metadata": {},
   "outputs": [
    {
     "name": "stderr",
     "output_type": "stream",
     "text": [
      "/Users/sachintripathi/Documents/Py_files/dev/lib/python3.12/site-packages/mlflow/types/utils.py:435: UserWarning: Hint: Inferred schema contains integer column(s). Integer columns in Python cannot represent missing values. If your input data contains missing values at inference time, it will be encoded as floats and will cause a schema enforcement error. The best way to avoid this problem is to infer the model schema based on a realistic data sample (training dataset) that includes missing values. Alternatively, you can declare integer columns as doubles (float64) whenever these columns may have missing values. See `Handling Integers With Missing Values <https://www.mlflow.org/docs/latest/models.html#handling-integers-with-missing-values>`_ for more details.\n",
      "  warnings.warn(\n"
     ]
    }
   ],
   "source": [
    "x, y = make_classification(n_samples = 1000, n_features = 5, n_classes = 2, random_state = 42)\n",
    "\n",
    "x_df = pd.DataFrame(x, columns = [f\"feature_{i+1}\" for i in range(x.shape[1])])\n",
    "y_df = pd.DataFrame(y, columns = ['target'])\n",
    "x_train, x_test, y_train, y_test = train_test_split(x_df, y_df, test_size = 0.2, random_state = 42)\n",
    "\n",
    "model_signature = infer_signature(x_train, y_train)"
   ]
  },
  {
   "cell_type": "code",
   "execution_count": 10,
   "metadata": {},
   "outputs": [
    {
     "name": "stderr",
     "output_type": "stream",
     "text": [
      "/Users/sachintripathi/Documents/Py_files/dev/lib/python3.12/site-packages/mlflow/types/utils.py:435: UserWarning: Hint: Inferred schema contains integer column(s). Integer columns in Python cannot represent missing values. If your input data contains missing values at inference time, it will be encoded as floats and will cause a schema enforcement error. The best way to avoid this problem is to infer the model schema based on a realistic data sample (training dataset) that includes missing values. Alternatively, you can declare integer columns as doubles (float64) whenever these columns may have missing values. See `Handling Integers With Missing Values <https://www.mlflow.org/docs/latest/models.html#handling-integers-with-missing-values>`_ for more details.\n",
      "  warnings.warn(\n",
      "2024/12/13 14:49:45 WARNING mlflow.models.evaluation.evaluators.classifier: According to the evaluation dataset label values, the model type looks like None, but you specified model type 'classifier'. Please verify that you set the `model_type` and `dataset` arguments correctly.\n",
      "2024/12/13 14:49:45 INFO mlflow.models.evaluation.evaluators.classifier: The evaluation dataset is inferred as binary dataset, positive label is 1, negative label is 0.\n",
      "2024/12/13 14:49:45 INFO mlflow.models.evaluation.default_evaluator: Testing metrics on first row...\n",
      "2024/12/13 14:49:45 WARNING mlflow.models.evaluation.evaluators.shap: SHAP or matplotlib package is not installed, so model explainability insights will not be logged.\n"
     ]
    }
   ],
   "source": [
    "baseline_model = DecisionTreeClassifier(random_state = 42)\n",
    "baseline_model.fit(x_train, y_train)\n",
    "predictions = baseline_model.predict(x_test)\n",
    "# logging the baseline model\n",
    "with mlflow.start_run(run_name = \"baseline\") as baseline_run: \n",
    "    mlflow.log_params(baseline_model.get_params())\n",
    "    artifact_path = \"baseline_model\"\n",
    "    mlflow.sklearn.log_model(baseline_model, artifact_path, signature = model_signature)\n",
    "    eval_df = pd.DataFrame({\n",
    "    \"target\": y_test.to_numpy().flatten(), \n",
    "    \"predictions\": predictions\n",
    "    })\n",
    "    result = mlflow.evaluate(\n",
    "    data = eval_df, \n",
    "    model_type = \"classifier\", \n",
    "    targets = \"target\", \n",
    "    predictions = \"predictions\" \n",
    "    )\n"
   ]
  },
  {
   "cell_type": "code",
   "execution_count": null,
   "metadata": {},
   "outputs": [],
   "source": []
  }
 ],
 "metadata": {
  "kernelspec": {
   "display_name": "dev",
   "language": "python",
   "name": "python3"
  },
  "language_info": {
   "codemirror_mode": {
    "name": "ipython",
    "version": 3
   },
   "file_extension": ".py",
   "mimetype": "text/x-python",
   "name": "python",
   "nbconvert_exporter": "python",
   "pygments_lexer": "ipython3",
   "version": "3.12.4"
  }
 },
 "nbformat": 4,
 "nbformat_minor": 2
}
