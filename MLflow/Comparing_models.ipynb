{
 "cells": [
  {
   "cell_type": "markdown",
   "metadata": {},
   "source": [
    "#### Loading the libraries"
   ]
  },
  {
   "cell_type": "code",
   "execution_count": 1,
   "metadata": {},
   "outputs": [],
   "source": [
    "from utils.utils import get_root_project\n",
    "from mlflow.models.signature import infer_signature\n",
    "from sklearn.datasets import make_classification\n",
    "from sklearn.model_selection import train_test_split\n",
    "from sklearn.ensemble import RandomForestClassifier\n",
    "from sklearn.tree import DecisionTreeClassifier\n",
    "import pandas as pd\n",
    "import mlflow\n",
    "import os"
   ]
  },
  {
   "cell_type": "code",
   "execution_count": 2,
   "metadata": {},
   "outputs": [
    {
     "data": {
      "text/plain": [
       "PosixPath('/Users/sachintripathi/Documents/Py_files/EXL_MLOps/MLFlow/mlruns')"
      ]
     },
     "execution_count": 2,
     "metadata": {},
     "output_type": "execute_result"
    }
   ],
   "source": [
    "tracking_server = get_root_project() / 'MLFlow' / 'mlruns'\n",
    "tracking_server"
   ]
  },
  {
   "cell_type": "code",
   "execution_count": 3,
   "metadata": {},
   "outputs": [],
   "source": [
    "os.makedirs(tracking_server, exist_ok = True)\n",
    "mlflow.set_tracking_uri(tracking_server.as_uri())"
   ]
  },
  {
   "cell_type": "code",
   "execution_count": 4,
   "metadata": {},
   "outputs": [
    {
     "data": {
      "text/plain": [
       "<Experiment: artifact_location='file:///Users/sachintripathi/Documents/Py_files/EXL_MLOps/MLFlow/mlruns/914191864866377034', creation_time=1734078793362, experiment_id='914191864866377034', last_update_time=1734078793362, lifecycle_stage='active', name='comparing_models', tags={}>"
      ]
     },
     "execution_count": 4,
     "metadata": {},
     "output_type": "execute_result"
    }
   ],
   "source": [
    "experiment_name = \"comparing_models\"\n",
    "try: \n",
    "    mlflow.create_experiment(name = experiment_name)\n",
    "except Exception as e:\n",
    "    print(e)\n",
    "\n",
    "mlflow.set_experiment(experiment_name = experiment_name)"
   ]
  },
  {
   "cell_type": "markdown",
   "metadata": {},
   "source": [
    "#### Generate data"
   ]
  },
  {
   "cell_type": "code",
   "execution_count": 5,
   "metadata": {},
   "outputs": [
    {
     "name": "stderr",
     "output_type": "stream",
     "text": [
      "/Users/sachintripathi/Documents/Py_files/dev/lib/python3.12/site-packages/mlflow/types/utils.py:435: UserWarning: Hint: Inferred schema contains integer column(s). Integer columns in Python cannot represent missing values. If your input data contains missing values at inference time, it will be encoded as floats and will cause a schema enforcement error. The best way to avoid this problem is to infer the model schema based on a realistic data sample (training dataset) that includes missing values. Alternatively, you can declare integer columns as doubles (float64) whenever these columns may have missing values. See `Handling Integers With Missing Values <https://www.mlflow.org/docs/latest/models.html#handling-integers-with-missing-values>`_ for more details.\n",
      "  warnings.warn(\n"
     ]
    }
   ],
   "source": [
    "x, y = make_classification(n_samples = 1000, n_features = 5, n_classes = 2, random_state = 42)\n",
    "\n",
    "x_df = pd.DataFrame(x, columns = [f\"feature_{i+1}\" for i in range(x.shape[1])])\n",
    "y_df = pd.DataFrame(y, columns = ['target'])\n",
    "x_train, x_test, y_train, y_test = train_test_split(x_df, y_df, test_size = 0.2, random_state = 42)\n",
    "\n",
    "model_signature = infer_signature(x_train, y_train)"
   ]
  },
  {
   "cell_type": "markdown",
   "metadata": {},
   "source": [
    "#### Training models (Baseline(DecisionTreeClassifier) and Candidate Model(RandomForestClassifier))"
   ]
  },
  {
   "cell_type": "code",
   "execution_count": 25,
   "metadata": {},
   "outputs": [],
   "source": [
    "baseline_model = DecisionTreeClassifier(random_state = 42)\n",
    "baseline_model.fit(x_train, y_train)\n",
    "\n",
    "# logging the baseline model\n",
    "with mlflow.start_run(run_name = \"baseline\") as baseline_run: \n",
    "    mlflow.log_params(baseline_model.get_params())\n",
    "    artifact_path = \"baseline_model\"\n",
    "    mlflow.sklearn.log_model(baseline_model, artifact_path, signature = model_signature)"
   ]
  },
  {
   "cell_type": "code",
   "execution_count": 26,
   "metadata": {},
   "outputs": [
    {
     "data": {
      "text/plain": [
       "'runs:/06f68e2a838548439ea8883188c9806f/baseline_model'"
      ]
     },
     "execution_count": 26,
     "metadata": {},
     "output_type": "execute_result"
    }
   ],
   "source": [
    "# printing the URI of the baseline model\n",
    "baseline_uri = f\"runs:/{baseline_run.info.run_id}/{artifact_path}\"\n",
    "baseline_uri"
   ]
  },
  {
   "cell_type": "code",
   "execution_count": null,
   "metadata": {},
   "outputs": [
    {
     "name": "stderr",
     "output_type": "stream",
     "text": [
      "/Users/sachintripathi/Documents/Py_files/dev/lib/python3.12/site-packages/sklearn/base.py:1473: DataConversionWarning: A column-vector y was passed when a 1d array was expected. Please change the shape of y to (n_samples,), for example using ravel().\n",
      "  return fit_method(estimator, *args, **kwargs)\n"
     ]
    }
   ],
   "source": [
    "candidate = RandomForestClassifier(random_state = 42)\n",
    "candidate.fit(x_train, y_train)\n",
    "\n",
    "candidate_predictions = candidate.predict(x_test)\n",
    "\n",
    "# logging the candidate model\n",
    "with mlflow.start_run(run_name = \"candidate\") as candidate_run: \n",
    "    mlflow.log_params(candidate.get_params())\n",
    "    artifact_path = \"candidate_model\"\n",
    "    mlflow.sklearn.log_model(candidate, artifact_path, signature = model_signature)\n",
    "    \n",
    "candidate_uri = f\"runs:/{candidate_run.info.run_id}/{artifact_path}\""
   ]
  },
  {
   "cell_type": "code",
   "execution_count": 11,
   "metadata": {},
   "outputs": [],
   "source": [
    "# wrapping the models\n",
    "def baseline_model_func(model_input):\n",
    "    return baseline_model.predict(model_input)\n",
    "\n",
    "def candidate_model_func(model_input):\n",
    "    return candidate.predict(model_input)"
   ]
  },
  {
   "cell_type": "markdown",
   "metadata": {},
   "source": [
    "#### Comparison"
   ]
  },
  {
   "cell_type": "code",
   "execution_count": 12,
   "metadata": {},
   "outputs": [],
   "source": [
    "eval_data_for_model = x_test.copy()\n",
    "eval_data_for_model[\"target\"] = y_test"
   ]
  },
  {
   "cell_type": "code",
   "execution_count": 13,
   "metadata": {},
   "outputs": [],
   "source": [
    "# creating validation thresholds\n",
    "from mlflow.models import MetricThreshold\n",
    "\n",
    "f1_score_th = {\n",
    "    \"f1_score\": MetricThreshold(\n",
    "        threshold = 0.8,\n",
    "        min_absolute_change = 0.01, \n",
    "        min_relative_change = 0.01, \n",
    "        greater_is_better = True\n",
    "    )\n",
    "}"
   ]
  },
  {
   "cell_type": "code",
   "execution_count": 27,
   "metadata": {},
   "outputs": [
    {
     "name": "stderr",
     "output_type": "stream",
     "text": [
      "/Users/sachintripathi/Documents/Py_files/dev/lib/python3.12/site-packages/mlflow/types/utils.py:435: UserWarning: Hint: Inferred schema contains integer column(s). Integer columns in Python cannot represent missing values. If your input data contains missing values at inference time, it will be encoded as floats and will cause a schema enforcement error. The best way to avoid this problem is to infer the model schema based on a realistic data sample (training dataset) that includes missing values. Alternatively, you can declare integer columns as doubles (float64) whenever these columns may have missing values. See `Handling Integers With Missing Values <https://www.mlflow.org/docs/latest/models.html#handling-integers-with-missing-values>`_ for more details.\n",
      "  warnings.warn(\n",
      "2024/12/13 14:28:01 WARNING mlflow.models.evaluation.evaluators.classifier: According to the evaluation dataset label values, the model type looks like None, but you specified model type 'classifier'. Please verify that you set the `model_type` and `dataset` arguments correctly.\n",
      "2024/12/13 14:28:01 INFO mlflow.models.evaluation.evaluators.classifier: The evaluation dataset is inferred as binary dataset, positive label is 1, negative label is 0.\n",
      "2024/12/13 14:28:01 INFO mlflow.models.evaluation.default_evaluator: Testing metrics on first row...\n",
      "2024/12/13 14:28:01 WARNING mlflow.models.evaluation.evaluators.shap: SHAP or matplotlib package is not installed, so model explainability insights will not be logged.\n",
      "/var/folders/kt/rdhzjxyd1ljf3qlxlbtz9mq80000gp/T/ipykernel_41662/1740736936.py:2: FutureWarning: Model validation functionality is moved from `mlflow.evaluate` to the `mlflow.validate_evaluation_results()` API. The `baseline_model` argument will be removed in a future release.\n",
      "  results = mlflow.evaluate(\n",
      "2024/12/13 14:28:01 WARNING mlflow.models.evaluation.evaluators.classifier: According to the evaluation dataset label values, the model type looks like None, but you specified model type 'classifier'. Please verify that you set the `model_type` and `dataset` arguments correctly.\n",
      "2024/12/13 14:28:01 INFO mlflow.models.evaluation.evaluators.classifier: The evaluation dataset is inferred as binary dataset, positive label is 1, negative label is 0.\n",
      "2024/12/13 14:28:01 INFO mlflow.models.evaluation.default_evaluator: Testing metrics on first row...\n",
      "2024/12/13 14:28:02 WARNING mlflow.models.evaluation.evaluators.shap: SHAP or matplotlib package is not installed, so model explainability insights will not be logged.\n",
      "2024/12/13 14:28:02 INFO mlflow.models.evaluation.validation: Validating candidate model metrics against baseline\n",
      "2024/12/13 14:28:02 INFO mlflow.models.evaluation.validation: Model validation passed!\n"
     ]
    }
   ],
   "source": [
    "with mlflow.start_run(run_name = \"comparing models\") as run: \n",
    "    results = mlflow.evaluate(\n",
    "        model = candidate_model_func, \n",
    "        baseline_model = baseline_uri, \n",
    "        data = eval_data_for_model, \n",
    "        targets = \"target\", \n",
    "        model_type = \"classifier\", \n",
    "        validation_thresholds = f1_score_th\n",
    "    )"
   ]
  },
  {
   "cell_type": "code",
   "execution_count": 28,
   "metadata": {},
   "outputs": [],
   "source": [
    "from mlflow.metrics import make_metric\n",
    "from sklearn.metrics import f1_score\n",
    "\n",
    "def custom_accuracy(df, __builtin_metrics):\n",
    "    targets = df[\"target\"]\n",
    "    predictions = df[\"prediction\"]\n",
    "    return sum(targets == predictions)/len(targets)\n",
    "\n",
    "def custom_f1_score(df, __builtin_metrics):\n",
    "    targets = df[\"target\"]\n",
    "    predictions = df[\"prediction\"]\n",
    "    return f1_score(targets, predictions, average = \"weighted\")\n",
    "\n",
    "custom_metric_accuracy = make_metric(\n",
    "    eval_fn = custom_accuracy, \n",
    "    name = \"custom_accuracy\", \n",
    "    greater_is_better = True\n",
    ")\n",
    "\n",
    "custom_metric_f1_score = make_metric(\n",
    "    eval_fn = custom_f1_score, \n",
    "    name = \"custom_f1_score\", \n",
    "    greater_is_better = True\n",
    ")"
   ]
  },
  {
   "cell_type": "code",
   "execution_count": 29,
   "metadata": {},
   "outputs": [
    {
     "name": "stderr",
     "output_type": "stream",
     "text": [
      "/Users/sachintripathi/Documents/Py_files/dev/lib/python3.12/site-packages/mlflow/types/utils.py:435: UserWarning: Hint: Inferred schema contains integer column(s). Integer columns in Python cannot represent missing values. If your input data contains missing values at inference time, it will be encoded as floats and will cause a schema enforcement error. The best way to avoid this problem is to infer the model schema based on a realistic data sample (training dataset) that includes missing values. Alternatively, you can declare integer columns as doubles (float64) whenever these columns may have missing values. See `Handling Integers With Missing Values <https://www.mlflow.org/docs/latest/models.html#handling-integers-with-missing-values>`_ for more details.\n",
      "  warnings.warn(\n",
      "2024/12/13 14:38:14 WARNING mlflow.models.evaluation.evaluators.classifier: According to the evaluation dataset label values, the model type looks like None, but you specified model type 'classifier'. Please verify that you set the `model_type` and `dataset` arguments correctly.\n",
      "2024/12/13 14:38:14 INFO mlflow.models.evaluation.evaluators.classifier: The evaluation dataset is inferred as binary dataset, positive label is 1, negative label is 0.\n",
      "2024/12/13 14:38:14 INFO mlflow.models.evaluation.default_evaluator: Testing metrics on first row...\n",
      "2024/12/13 14:38:14 WARNING mlflow.models.evaluation.evaluators.shap: SHAP or matplotlib package is not installed, so model explainability insights will not be logged.\n",
      "/var/folders/kt/rdhzjxyd1ljf3qlxlbtz9mq80000gp/T/ipykernel_41662/3756814794.py:2: FutureWarning: Model validation functionality is moved from `mlflow.evaluate` to the `mlflow.validate_evaluation_results()` API. The `baseline_model` argument will be removed in a future release.\n",
      "  results = mlflow.evaluate(\n",
      "2024/12/13 14:38:14 WARNING mlflow.models.evaluation.evaluators.classifier: According to the evaluation dataset label values, the model type looks like None, but you specified model type 'classifier'. Please verify that you set the `model_type` and `dataset` arguments correctly.\n",
      "2024/12/13 14:38:14 INFO mlflow.models.evaluation.evaluators.classifier: The evaluation dataset is inferred as binary dataset, positive label is 1, negative label is 0.\n",
      "2024/12/13 14:38:14 INFO mlflow.models.evaluation.default_evaluator: Testing metrics on first row...\n",
      "2024/12/13 14:38:15 WARNING mlflow.models.evaluation.evaluators.shap: SHAP or matplotlib package is not installed, so model explainability insights will not be logged.\n",
      "2024/12/13 14:38:15 INFO mlflow.models.evaluation.validation: Validating candidate model metrics against baseline\n",
      "2024/12/13 14:38:15 INFO mlflow.models.evaluation.validation: Model validation passed!\n"
     ]
    }
   ],
   "source": [
    "with mlflow.start_run(run_name = \"comparing_models\") as run: \n",
    "    results = mlflow.evaluate(\n",
    "        model = candidate_model_func, \n",
    "        baseline_model = baseline_uri, \n",
    "        data = eval_data_for_model,\n",
    "        targets = \"target\", \n",
    "        model_type = \"classifier\", \n",
    "        validation_thresholds = f1_score_th, \n",
    "        extra_metrics = [custom_metric_accuracy, custom_metric_f1_score]\n",
    ")"
   ]
  },
  {
   "cell_type": "code",
   "execution_count": null,
   "metadata": {},
   "outputs": [],
   "source": []
  }
 ],
 "metadata": {
  "kernelspec": {
   "display_name": "dev",
   "language": "python",
   "name": "python3"
  },
  "language_info": {
   "codemirror_mode": {
    "name": "ipython",
    "version": 3
   },
   "file_extension": ".py",
   "mimetype": "text/x-python",
   "name": "python",
   "nbconvert_exporter": "python",
   "pygments_lexer": "ipython3",
   "version": "3.12.4"
  }
 },
 "nbformat": 4,
 "nbformat_minor": 2
}
